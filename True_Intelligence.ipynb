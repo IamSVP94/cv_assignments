{
  "nbformat": 4,
  "nbformat_minor": 0,
  "metadata": {
    "colab": {
      "name": "Untitled1.ipynb",
      "provenance": [],
      "authorship_tag": "ABX9TyN85bahrLRV9OV4h7d7hiol",
      "include_colab_link": true
    },
    "kernelspec": {
      "name": "python3",
      "display_name": "Python 3"
    }
  },
  "cells": [
    {
      "cell_type": "markdown",
      "metadata": {
        "id": "view-in-github",
        "colab_type": "text"
      },
      "source": [
        "<a href=\"https://colab.research.google.com/github/IamSVP94/test_assignments/blob/main/True_Intelligence.ipynb\" target=\"_parent\"><img src=\"https://colab.research.google.com/assets/colab-badge.svg\" alt=\"Open In Colab\"/></a>"
      ]
    },
    {
      "cell_type": "markdown",
      "metadata": {
        "id": "EDR6lC1oxgtY"
      },
      "source": [
        "<h2>Задание 1</h2>\r\n",
        "<p>Респондента просят оценить ряд высказываний по 5балльной шкале:</p>\r\n",
        "\r\n",
        "<table>\r\n",
        "<tr align=\"center\">\r\n",
        "<th colspan='2'>Вопрос</th>\r\n",
        "<th>полностью<br/>согласна</th>\r\n",
        "<th>скорее<br/>согласна</th>\r\n",
        "<th>отчасти согласна,<br/>отчасти нет</th>\r\n",
        "<th>скорее не<br/>согласна</th>\r\n",
        "<th>полностью<br/>не согласна</th>\r\n",
        "</tr><tr align=\"center\"><td>1</td>\r\n",
        "<td align=\"left\">Я считаю, что мое питание - здоровое</td>\r\n",
        "<td>5</td><td>4</td><td>3</td><td>2</td><td>1</td>\r\n",
        "</tr><tr align=\"center\"><td>2</td>\r\n",
        "<td align=\"left\">Я всегда в курсе новинок</td>\r\n",
        "<td>5</td><td>4</td><td>3</td><td>2</td><td>1</td>\r\n",
        "</tr><tr align=\"center\"><td>3</td>\r\n",
        "<td align=\"left\">Я готова пожертвовать семьей ради работы</td>\r\n",
        "<td>5</td><td>4</td><td>3</td><td>2</td><td>1</td>\r\n",
        "</tr><tr align=\"center\"><td>4</td>\r\n",
        "<td align=\"left\">Друзья считают меня модной и стильной</td>\r\n",
        "<td>5</td><td>4</td><td>3</td><td>2</td><td>1</td>\r\n",
        "</tr><tr align=\"center\"><td>5</td>\r\n",
        "<td align=\"left\">Мне нравится есть то, что не всегда полезно для меня</td>\r\n",
        "<td>5</td><td>4</td><td>3</td><td>2</td><td>1</td>\r\n",
        "</tr><tr align=\"center\"><td>6</td>\r\n",
        "<td align=\"left\">Я слежу за количеством калорий в еде</td>\r\n",
        "<td>5</td><td>4</td><td>3</td><td>2</td><td>1</td>\r\n",
        "</tr><tr align=\"center\"><td>7</td>\r\n",
        "<td align=\"left\">Я предпочитаю покупать отечественные продукты питания</td>\r\n",
        "<td>5</td><td>4</td><td>3</td><td>2</td><td>1</td>\r\n",
        "</tr><tr align=\"center\"><td>8</td>\r\n",
        "<td align=\"left\">Прежде чем отправиться за покупками, я рассчитываю\r\n",
        "каждый рубль</td>\r\n",
        "<td>5</td><td>4</td><td>3</td><td>2</td><td>1</td>\r\n",
        "</tr><tr align=\"center\"><td>9</td>\r\n",
        "<td align=\"left\">Я одна из первых пробую новинки</td>\r\n",
        "<td>5</td><td>4</td><td>3</td><td>2</td><td>1</td>\r\n",
        "</tr><tr align=\"center\"><td>10</td>\r\n",
        "<td align=\"left\">Для подарка я выбираю только проверенные марки</td>\r\n",
        "<td>5</td><td>4</td><td>3</td><td>2</td><td>1</td>\r\n",
        "</tr><tr align=\"center\"><td>11</td>\r\n",
        "<td align=\"left\">Я считаю, что новые товары - это слишком рискованная\r\n",
        "покупка</td>\r\n",
        "<td>5</td><td>4</td><td>3</td><td>2</td><td>1</td>\r\n",
        "</tr><tr align=\"center\"><td>12</td>\r\n",
        "<td align=\"left\">Мне приятно покупать продукты в яркой, красочной\r\n",
        "упаковке</td>\r\n",
        "<td>5</td><td>4</td><td>3</td><td>2</td><td>1</td>\r\n",
        "</tr><tr align=\"center\"><td>13</td>\r\n",
        "<td align=\"left\">Окружающие меня люди считают меня законодателем\r\n",
        "моды</td>\r\n",
        "<td>5</td><td>4</td><td>3</td><td>2</td><td>1</td>\r\n",
        "</tr><tr align=\"center\"><td>14</td>\r\n",
        "<td align=\"left\">Когда я хожу в магазин, я ищу самые низкие цены</td>\r\n",
        "<td>5</td><td>4</td><td>3</td><td>2</td><td>1</td>\r\n",
        "</tr><tr align=\"center\"><td>15</td>\r\n",
        "<td>Я предпочитаю покупать те марки, которые знаю и которым\r\n",
        "я доверяю</td>\r\n",
        "<td>5</td><td>4</td><td>3</td><td>2</td><td>1</td>\r\n",
        "</tr>\r\n",
        "</table>\r\n",
        "\r\n",
        "После ввода данных мы получаем массив записей вида\r\n",
        "\r\n",
        "<№ интервью><Время заполнения в сек><Оценка 1><Оценка 2>…<Оценка N>\r\n",
        "\r\n",
        "Предполагается, что часть анкет заполнена недобросовестно (проставлены почти не различающиеся оценки ,\r\n",
        "заполнение прошло гораздо быстрее «честных» интервью).\r\n",
        "\r\n",
        "Предложите формальный алгоритм, определяющий подозрительные интервью."
      ]
    },
    {
      "cell_type": "markdown",
      "metadata": {
        "id": "hGXQWEppz7Hx"
      },
      "source": [
        "---\r\n",
        "<h3>Алгоритм проверки анкет на доброкачественность</h3>\r\n",
        "\r\n",
        "1.   Сначала обратим внимание на время заполнения анкеты: врядли её можно заполнить качествено за слишком маленький промежуток времени (за 20 сек например?)\r\n",
        "2. Далее обратим внимание, что есть похожие вопросы (11 и 15 вопросы), а есть полные противоположности друг друта (1 и 5 вопросы). Простой анализ показывает, что ответы на эти вопросы связаны. То есть, при расхождении оценок по этим вопросам, можно сделать вывод, что анкета заполнена некорректно.\r\n",
        "3. Так же можно провести кластерный анализ. Выделить кластер наиболее подозрительных анкет. Затем с помощью статистического анализа, на основе ранее одобренных анкет, также можно найти не качественные работы."
      ]
    },
    {
      "cell_type": "markdown",
      "metadata": {
        "id": "S3Yc1e9lG2dp"
      },
      "source": [
        "---\r\n",
        "<h2>Задание 2</h2>\r\n",
        "\r\n",
        "В колл-центре ведётся журнал исходящих звонков.\r\n",
        "\r\n",
        "Каждому звонку соответствует запись вида\r\n",
        "\r\n",
        "<Дата и время начала интервью><Длительность интервью>\r\n",
        "\r\n",
        "На любом известном вам алгоритмическом языке напишите фрагмент программы, который определяет максимальное число одновременных телефонных интервью за всю историю. Т.е. фактически максимальное число занятых телефонных линий. Предполагается, что операции сложения и вычитания даты и времени уже определены, вам не надо реализовывать их самостоятельно. Записи можно представить в виде одного массива структур или двух разных\r\n",
        "массивов переменных типа «дата_время»."
      ]
    },
    {
      "cell_type": "code",
      "metadata": {
        "id": "L_qhuFGST10P"
      },
      "source": [
        "import datetime\r\n",
        "import time"
      ],
      "execution_count": 50,
      "outputs": []
    },
    {
      "cell_type": "code",
      "metadata": {
        "id": "XJ5QA8H6dJbT"
      },
      "source": [
        "def max_load(*interviews): # функция выдаёт максимальное значения одновременно нагруженных каналов связи\r\n",
        "  timings = []\r\n",
        "  active_channels = []\r\n",
        "  n_active = 0\r\n",
        "  def interview_in_sec(i): # i = {'date': %d.%m.%Y,'duration': %H:%M}\r\n",
        "    # можно сделать проверку регуляркой на вхождение строки\r\n",
        "    d_H, d_M = map(int, (i['duration'].split(':')))\r\n",
        "    duration = (d_H*60 + d_M)*60\r\n",
        "    start = int(datetime.datetime.strptime(i['date'], \"%d.%m.%Y %H:%M\").timestamp())\r\n",
        "    finish = int(start+duration)\r\n",
        "    return {'start': start, 'finish': finish}\r\n",
        "\r\n",
        "  for n,i in enumerate(interviews):\r\n",
        "    params = interview_in_sec(i)\r\n",
        "    timings.append((params['start'], n))\r\n",
        "    timings.append((params['finish'], n))\r\n",
        "  timings.sort()\r\n",
        "\r\n",
        "  for i in timings:\r\n",
        "    if i[1] not in active_channels:\r\n",
        "      active_channels.append(i[1])\r\n",
        "    else:\r\n",
        "      active_channels.remove(i[1])\r\n",
        "    if n_active < len(active_channels):\r\n",
        "      n_active = len(active_channels)\r\n",
        "  return n_active"
      ],
      "execution_count": 54,
      "outputs": []
    },
    {
      "cell_type": "code",
      "metadata": {
        "id": "LkeDm6IZhhsC"
      },
      "source": [
        "i1 = {'date': '15.12.2021 09:00', 'duration': '25:15'} # дата и время начала интервью и его продолжительность\r\n",
        "i2 = {'date': '31.12.2021 10:01', 'duration': '1:00'}\r\n",
        "i3 = {'date': '15.12.2021 12:03', 'duration': '6:30'}\r\n",
        "i4 = {'date': '15.12.2021 13:30', 'duration': '0:01'}\r\n",
        "i5 = {'date': '15.12.2021 15:50', 'duration': '1:55'}\r\n",
        "i6 = {'date': '15.12.2021 17:01', 'duration': '1:10'}\r\n",
        "i7 = {'date': '15.12.2021 18:50', 'duration': '2:32'}\r\n",
        "i8 = {'date': '15.01.2020 18:55', 'duration': '1:30'}"
      ],
      "execution_count": 55,
      "outputs": []
    },
    {
      "cell_type": "code",
      "metadata": {
        "id": "A2vz2BEBZlgJ",
        "colab": {
          "base_uri": "https://localhost:8080/"
        },
        "outputId": "0f520988-93e3-4e14-9c48-162522f67d6b"
      },
      "source": [
        "max_load(i1, i2, i3, i4, i5, i6, i7, i8)"
      ],
      "execution_count": 56,
      "outputs": [
        {
          "output_type": "execute_result",
          "data": {
            "text/plain": [
              "4"
            ]
          },
          "metadata": {
            "tags": []
          },
          "execution_count": 56
        }
      ]
    }
  ]
}